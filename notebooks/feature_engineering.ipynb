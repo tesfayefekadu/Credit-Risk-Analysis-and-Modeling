{
 "cells": [
  {
   "cell_type": "code",
   "execution_count": 1,
   "metadata": {},
   "outputs": [],
   "source": [
    "from sklearn.preprocessing import LabelEncoder\n",
    "from xverse.transformer import WOE\n",
    "import pandas as pd\n",
    "import matplotlib.pyplot as plt\n",
    "import seaborn as sns\n",
    "import sys\n",
    "import os"
   ]
  },
  {
   "cell_type": "code",
   "execution_count": 2,
   "metadata": {},
   "outputs": [],
   "source": [
    "sys.path.append(os.path.abspath('../scripts'))\n",
    "data=pd.read_csv('../data/data.csv')"
   ]
  },
  {
   "cell_type": "code",
   "execution_count": 3,
   "metadata": {},
   "outputs": [],
   "source": [
    "from feature_engineering import (create_aggregate_features,extract_temporal_features,\n",
    "    one_hot_encode,\n",
    "    label_encode,\n",
    "    handle_missing_values,\n",
    "    normalize_features,\n",
    "    standardize_features,\n",
    "    calculate_woe_iv\n",
    ")"
   ]
  },
  {
   "cell_type": "code",
   "execution_count": 4,
   "metadata": {},
   "outputs": [
    {
     "name": "stdout",
     "output_type": "stream",
     "text": [
      "        CustomerId  Total_Transaction_Amount  Average_Transaction_Amount  \\\n",
      "0     CustomerId_1                  -10000.0               -10000.000000   \n",
      "1    CustomerId_10                  -10000.0               -10000.000000   \n",
      "2  CustomerId_1001                   20000.0                 4000.000000   \n",
      "3  CustomerId_1002                    4225.0                  384.090909   \n",
      "4  CustomerId_1003                   20000.0                 3333.333333   \n",
      "\n",
      "   Transaction_Count  Std_Transaction_Amount  \n",
      "0                  1                     NaN  \n",
      "1                  1                     NaN  \n",
      "2                  5             6558.963333  \n",
      "3                 11              560.498966  \n",
      "4                  6             6030.478146  \n"
     ]
    }
   ],
   "source": [
    "data_with_aggregates = create_aggregate_features(data, customer_id_col='CustomerId', amount_col='Amount')\n",
    "print(data_with_aggregates.head())"
   ]
  },
  {
   "cell_type": "code",
   "execution_count": 5,
   "metadata": {},
   "outputs": [
    {
     "name": "stdout",
     "output_type": "stream",
     "text": [
      "         TransactionId         BatchId       AccountId       SubscriptionId  \\\n",
      "0  TransactionId_76871   BatchId_36123  AccountId_3957   SubscriptionId_887   \n",
      "1  TransactionId_73770   BatchId_15642  AccountId_4841  SubscriptionId_3829   \n",
      "2  TransactionId_26203   BatchId_53941  AccountId_4229   SubscriptionId_222   \n",
      "3    TransactionId_380  BatchId_102363   AccountId_648  SubscriptionId_2185   \n",
      "4  TransactionId_28195   BatchId_38780  AccountId_4841  SubscriptionId_3829   \n",
      "\n",
      "        CustomerId CurrencyCode  CountryCode    ProviderId     ProductId  \\\n",
      "0  CustomerId_4406          UGX          256  ProviderId_6  ProductId_10   \n",
      "1  CustomerId_4406          UGX          256  ProviderId_4   ProductId_6   \n",
      "2  CustomerId_4683          UGX          256  ProviderId_6   ProductId_1   \n",
      "3   CustomerId_988          UGX          256  ProviderId_1  ProductId_21   \n",
      "4   CustomerId_988          UGX          256  ProviderId_4   ProductId_6   \n",
      "\n",
      "      ProductCategory    ChannelId   Amount  Value TransactionStartTime  \\\n",
      "0             airtime  ChannelId_3   1000.0   1000  2018-11-15 02:18:49   \n",
      "1  financial_services  ChannelId_2    -20.0     20  2018-11-15 02:19:08   \n",
      "2             airtime  ChannelId_3    500.0    500  2018-11-15 02:44:21   \n",
      "3        utility_bill  ChannelId_3  20000.0  21800  2018-11-15 03:32:55   \n",
      "4  financial_services  ChannelId_2   -644.0    644  2018-11-15 03:34:21   \n",
      "\n",
      "   PricingStrategy  FraudResult  Transaction_Hour  Transaction_Day  \\\n",
      "0                2            0                 2               15   \n",
      "1                2            0                 2               15   \n",
      "2                2            0                 2               15   \n",
      "3                2            0                 3               15   \n",
      "4                2            0                 3               15   \n",
      "\n",
      "   Transaction_Month  Transaction_Year  \n",
      "0                 11              2018  \n",
      "1                 11              2018  \n",
      "2                 11              2018  \n",
      "3                 11              2018  \n",
      "4                 11              2018  \n"
     ]
    }
   ],
   "source": [
    "data_with_temporal_features = extract_temporal_features(data)\n",
    "print(data_with_temporal_features.head())"
   ]
  },
  {
   "cell_type": "code",
   "execution_count": 6,
   "metadata": {},
   "outputs": [
    {
     "name": "stdout",
     "output_type": "stream",
     "text": [
      "         TransactionId         BatchId       AccountId       SubscriptionId  \\\n",
      "0  TransactionId_76871   BatchId_36123  AccountId_3957   SubscriptionId_887   \n",
      "1  TransactionId_73770   BatchId_15642  AccountId_4841  SubscriptionId_3829   \n",
      "2  TransactionId_26203   BatchId_53941  AccountId_4229   SubscriptionId_222   \n",
      "3    TransactionId_380  BatchId_102363   AccountId_648  SubscriptionId_2185   \n",
      "4  TransactionId_28195   BatchId_38780  AccountId_4841  SubscriptionId_3829   \n",
      "\n",
      "        CustomerId     ProductId   Amount  Value TransactionStartTime  \\\n",
      "0  CustomerId_4406  ProductId_10   1000.0   1000  2018-11-15 02:18:49   \n",
      "1  CustomerId_4406   ProductId_6    -20.0     20  2018-11-15 02:19:08   \n",
      "2  CustomerId_4683   ProductId_1    500.0    500  2018-11-15 02:44:21   \n",
      "3   CustomerId_988  ProductId_21  20000.0  21800  2018-11-15 03:32:55   \n",
      "4   CustomerId_988   ProductId_6   -644.0    644  2018-11-15 03:34:21   \n",
      "\n",
      "   PricingStrategy  ...  ChannelId_ChannelId_1  ChannelId_ChannelId_2  \\\n",
      "0                2  ...                  False                  False   \n",
      "1                2  ...                  False                   True   \n",
      "2                2  ...                  False                  False   \n",
      "3                2  ...                  False                  False   \n",
      "4                2  ...                  False                   True   \n",
      "\n",
      "   ChannelId_ChannelId_3  ChannelId_ChannelId_5  ProviderId_ProviderId_1  \\\n",
      "0                   True                  False                    False   \n",
      "1                  False                  False                    False   \n",
      "2                   True                  False                    False   \n",
      "3                   True                  False                     True   \n",
      "4                  False                  False                    False   \n",
      "\n",
      "   ProviderId_ProviderId_2  ProviderId_ProviderId_3  ProviderId_ProviderId_4  \\\n",
      "0                    False                    False                    False   \n",
      "1                    False                    False                     True   \n",
      "2                    False                    False                    False   \n",
      "3                    False                    False                    False   \n",
      "4                    False                    False                     True   \n",
      "\n",
      "   ProviderId_ProviderId_5  ProviderId_ProviderId_6  \n",
      "0                    False                     True  \n",
      "1                    False                    False  \n",
      "2                    False                     True  \n",
      "3                    False                    False  \n",
      "4                    False                    False  \n",
      "\n",
      "[5 rows x 36 columns]\n"
     ]
    }
   ],
   "source": [
    "data_one_hot_encoded = one_hot_encode(data)\n",
    "print(data_one_hot_encoded.head())\n"
   ]
  },
  {
   "cell_type": "code",
   "execution_count": 7,
   "metadata": {},
   "outputs": [
    {
     "name": "stdout",
     "output_type": "stream",
     "text": [
      "         TransactionId         BatchId       AccountId       SubscriptionId  \\\n",
      "0  TransactionId_76871   BatchId_36123  AccountId_3957   SubscriptionId_887   \n",
      "1  TransactionId_73770   BatchId_15642  AccountId_4841  SubscriptionId_3829   \n",
      "2  TransactionId_26203   BatchId_53941  AccountId_4229   SubscriptionId_222   \n",
      "3    TransactionId_380  BatchId_102363   AccountId_648  SubscriptionId_2185   \n",
      "4  TransactionId_28195   BatchId_38780  AccountId_4841  SubscriptionId_3829   \n",
      "\n",
      "        CustomerId  CurrencyCode  CountryCode  ProviderId     ProductId  \\\n",
      "0  CustomerId_4406             0            0           5  ProductId_10   \n",
      "1  CustomerId_4406             0            0           3   ProductId_6   \n",
      "2  CustomerId_4683             0            0           5   ProductId_1   \n",
      "3   CustomerId_988             0            0           0  ProductId_21   \n",
      "4   CustomerId_988             0            0           3   ProductId_6   \n",
      "\n",
      "   ProductCategory  ChannelId   Amount  Value TransactionStartTime  \\\n",
      "0                0          2   1000.0   1000  2018-11-15 02:18:49   \n",
      "1                2          1    -20.0     20  2018-11-15 02:19:08   \n",
      "2                0          2    500.0    500  2018-11-15 02:44:21   \n",
      "3                8          2  20000.0  21800  2018-11-15 03:32:55   \n",
      "4                2          1   -644.0    644  2018-11-15 03:34:21   \n",
      "\n",
      "   PricingStrategy  FraudResult  Transaction_Hour  Transaction_Day  \\\n",
      "0                2            0                 2               15   \n",
      "1                2            0                 2               15   \n",
      "2                2            0                 2               15   \n",
      "3                2            0                 3               15   \n",
      "4                2            0                 3               15   \n",
      "\n",
      "   Transaction_Month  Transaction_Year  \n",
      "0                 11              2018  \n",
      "1                 11              2018  \n",
      "2                 11              2018  \n",
      "3                 11              2018  \n",
      "4                 11              2018  \n"
     ]
    }
   ],
   "source": [
    "data_label_encoded, encoders = label_encode(data, categorical_columns = ['CurrencyCode', 'CountryCode', 'ProductCategory', 'ChannelId', 'ProviderId'])\n",
    "print(data_label_encoded.head())\n"
   ]
  },
  {
   "cell_type": "code",
   "execution_count": 8,
   "metadata": {},
   "outputs": [],
   "source": [
    "data_filled = handle_missing_values(data)"
   ]
  },
  {
   "cell_type": "code",
   "execution_count": 9,
   "metadata": {},
   "outputs": [],
   "source": [
    "data_normalized = normalize_features(data)"
   ]
  },
  {
   "cell_type": "code",
   "execution_count": 10,
   "metadata": {},
   "outputs": [],
   "source": [
    "data_standardized = standardize_features(data)"
   ]
  }
 ],
 "metadata": {
  "kernelspec": {
   "display_name": ".venv",
   "language": "python",
   "name": "python3"
  },
  "language_info": {
   "codemirror_mode": {
    "name": "ipython",
    "version": 3
   },
   "file_extension": ".py",
   "mimetype": "text/x-python",
   "name": "python",
   "nbconvert_exporter": "python",
   "pygments_lexer": "ipython3",
   "version": "3.11.2"
  }
 },
 "nbformat": 4,
 "nbformat_minor": 2
}
